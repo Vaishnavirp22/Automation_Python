{
 "cells": [
  {
   "cell_type": "code",
   "execution_count": null,
   "id": "3acb86a6",
   "metadata": {},
   "outputs": [],
   "source": [
    "import sqlalchemy\n",
    "import pandas as pd\n",
    "import csv\n",
    "from openpyxl import workbook"
   ]
  },
  {
   "cell_type": "code",
   "execution_count": null,
   "id": "01b1a54c",
   "metadata": {},
   "outputs": [],
   "source": [
    "# Define your database connection URL\n",
    "db_url = \"-------------\""
   ]
  },
  {
   "cell_type": "code",
   "execution_count": null,
   "id": "5162e6f3",
   "metadata": {},
   "outputs": [],
   "source": [
    "# create a sqlalchemy engine to connect to the database\n",
    "engine = sqlalchemy.create_engine(db_url)"
   ]
  },
  {
   "cell_type": "code",
   "execution_count": null,
   "id": "99bb4f57",
   "metadata": {},
   "outputs": [],
   "source": [
    "# Define the SQL query to retrive data from the database\n",
    "query = \" Select * from db where location ='India' \"     "
   ]
  },
  {
   "cell_type": "code",
   "execution_count": null,
   "id": "876aaeb5",
   "metadata": {},
   "outputs": [],
   "source": [
    "# Retrive data from database into a pandas Dataframe\n",
    "df = pd.read_sql(query, engine)"
   ]
  },
  {
   "cell_type": "code",
   "execution_count": null,
   "id": "2b6d91a1",
   "metadata": {},
   "outputs": [],
   "source": [
    "#Export data to an Excel file using openpyxl\n",
    "excel_filename = \"data.xlsx\"\n",
    "df.to_excel(excel_filename, index False)"
   ]
  },
  {
   "cell_type": "code",
   "execution_count": null,
   "id": "c0028d82",
   "metadata": {},
   "outputs": [],
   "source": [
    "#Export data to an Excel file using openpyxl\n",
    "excel_filename = \"data.xlsx\"\n",
    "df.to_excel(excel_filename, index=False)"
   ]
  },
  {
   "cell_type": "code",
   "execution_count": null,
   "id": "77ed3170",
   "metadata": {},
   "outputs": [],
   "source": [
    "#Export data to a csv using pandas and csv module\n",
    "csv_filename = \"data.csv\"\n",
    "df.to_csv(csv_filename, index=False)"
   ]
  },
  {
   "cell_type": "code",
   "execution_count": null,
   "id": "3f900ac3",
   "metadata": {},
   "outputs": [],
   "source": []
  },
  {
   "cell_type": "code",
   "execution_count": null,
   "id": "54000dc6",
   "metadata": {},
   "outputs": [],
   "source": []
  },
  {
   "cell_type": "code",
   "execution_count": null,
   "id": "36a4d995",
   "metadata": {},
   "outputs": [],
   "source": []
  }
 ],
 "metadata": {
  "kernelspec": {
   "display_name": "Python 3 (ipykernel)",
   "language": "python",
   "name": "python3"
  },
  "language_info": {
   "codemirror_mode": {
    "name": "ipython",
    "version": 3
   },
   "file_extension": ".py",
   "mimetype": "text/x-python",
   "name": "python",
   "nbconvert_exporter": "python",
   "pygments_lexer": "ipython3",
   "version": "3.10.9"
  }
 },
 "nbformat": 4,
 "nbformat_minor": 5
}
